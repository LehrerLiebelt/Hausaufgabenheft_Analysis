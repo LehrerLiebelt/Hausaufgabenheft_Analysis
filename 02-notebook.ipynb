{
 "cells": [
  {
   "cell_type": "markdown",
   "metadata": {
    "editable": true,
    "slideshow": {
     "slide_type": ""
    },
    "tags": []
   },
   "source": [
    "---\n",
    "title: Hausaufgabe 1 🧙\n",
    "subject: Lösungsverfahren\n",
    "subtitle: Faktorisierung und Linearfaktorzerlegung\n",
    "authors:\n",
    "  - name: Tassilo Liebelt \n",
    "    email: liebelt@fhbk.de\n",
    "exports:\n",
    "  - format: pdf\n",
    "---"
   ]
  },
  {
   "cell_type": "code",
   "execution_count": 1,
   "metadata": {
    "editable": true,
    "slideshow": {
     "slide_type": ""
    },
    "tags": []
   },
   "outputs": [],
   "source": [
    "import ipywidgets as widgets\n",
    "ErsteEingabe = widgets.IntText(\n",
    "    value=7,\n",
    "    description='a:',\n",
    "    disabled=False\n",
    ")"
   ]
  },
  {
   "cell_type": "markdown",
   "metadata": {
    "editable": true,
    "slideshow": {
     "slide_type": ""
    },
    "tags": [],
    "user_expressions": [
     {
      "expression": "ErsteEingabe",
      "result": {
       "data": {
        "application/vnd.jupyter.widget-view+json": {
         "model_id": "3358f53ca19944c3832f9e3f4267706d",
         "version_major": 2,
         "version_minor": 0
        },
        "text/plain": "IntText(value=8, description='a:')"
       },
       "metadata": {},
       "status": "ok"
      }
     },
     {
      "expression": "ErsteEingabe.value",
      "result": {
       "data": {
        "text/plain": "8"
       },
       "metadata": {},
       "status": "ok"
      }
     }
    ]
   },
   "source": [
    "# Aufgabe 1\n",
    "\n",
    ":::{important}\n",
    "Bitte gib als ersten den Wert für $a$ an: {eval}`ErsteEingabe`\n",
    "\n",
    "Die erste Lösung lautet:\n",
    "{eval}`ErsteEingabe.value`\n",
    "\n",
    ":::"
   ]
  },
  {
   "cell_type": "code",
   "execution_count": null,
   "metadata": {
    "editable": true,
    "slideshow": {
     "slide_type": ""
    },
    "tags": []
   },
   "outputs": [],
   "source": []
  }
 ],
 "metadata": {
  "kernelspec": {
   "display_name": "Python 3 (ipykernel)",
   "language": "python",
   "name": "python3"
  },
  "language_info": {
   "codemirror_mode": {
    "name": "ipython",
    "version": 3
   },
   "file_extension": ".py",
   "mimetype": "text/x-python",
   "name": "python",
   "nbconvert_exporter": "python",
   "pygments_lexer": "ipython3",
   "version": "3.10.12"
  },
  "vscode": {
   "interpreter": {
    "hash": "d7b89e158b719c02a21186c9646700ecf5a8cc5b1b6f738df9b6ffa75e5e74e4"
   }
  }
 },
 "nbformat": 4,
 "nbformat_minor": 4
}
